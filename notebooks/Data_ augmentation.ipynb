{
 "cells": [
  {
   "cell_type": "code",
   "id": "initial_id",
   "metadata": {
    "collapsed": true,
    "ExecuteTime": {
     "end_time": "2025-01-22T15:17:59.317809Z",
     "start_time": "2025-01-22T15:17:59.280686Z"
    }
   },
   "source": [
    "import os\n",
    "from PIL import Image\n",
    "import torchvision.transforms.functional as TF\n",
    "import numpy as np\n",
    "\n",
    "# Rutas de entrada y salida\n",
    "input_dir = r\"C:\\Users\\jerij\\Carpetas\\Clases Formaciones Curro\\Master\\2Semestre\\Proyecto\\Data\\Pruebas\"  # Carpeta con imágenes y etiquetas\n",
    "output_images_dir = r\"C:\\Users\\jerij\\Carpetas\\Clases Formaciones Curro\\Master\\2Semestre\\Proyecto\\Data\\Pruebas\"\n",
    "output_labels_dir = r\"C:\\Users\\jerij\\Carpetas\\Clases Formaciones Curro\\Master\\2Semestre\\Proyecto\\Data\\Pruebas\" \n",
    "os.makedirs(output_images_dir, exist_ok=True)\n",
    "os.makedirs(output_labels_dir, exist_ok=True)\n",
    "\n",
    "# Verificar si una etiqueta es NOK (contiene píxeles distintos de negro)\n",
    "def is_nok(label_path):\n",
    "    label = Image.open(label_path).convert(\"L\")\n",
    "    label_array = np.array(label)\n",
    "    return np.any(label_array > 0)  # Verificar si hay píxeles distintos de 0\n",
    "\n",
    "# Data augmentation sincronizado\n",
    "def augment_image_and_label(image, label):\n",
    "    augmented_pairs = []\n",
    "\n",
    "    # Flip horizontal\n",
    "    flipped_image = TF.hflip(image)\n",
    "    flipped_label = TF.hflip(label)\n",
    "    augmented_pairs.append((flipped_image.resize((512, 1024)), flipped_label.resize((512, 1024))))\n",
    "\n",
    "    # Flip vertical\n",
    "    flipped_image = TF.vflip(image)\n",
    "    flipped_label = TF.vflip(label)\n",
    "    augmented_pairs.append((flipped_image.resize((512, 1024)), flipped_label.resize((512, 1024))))\n",
    "\n",
    "    # Rotación 180 grados\n",
    "    rotated_image = image.rotate(180, expand=True)\n",
    "    rotated_label = label.rotate(180, expand=True)\n",
    "    augmented_pairs.append((rotated_image.resize((512, 1024)), rotated_label.resize((512, 1024))))\n",
    "\n",
    "    # Traslaciones\n",
    "    for dx, dy in [(20, 0), (-20, 0), (0, 20), (0, -20)]:\n",
    "        translated_image = TF.affine(image, angle=0, translate=(dx, dy), scale=1.0, shear=0)\n",
    "        translated_label = TF.affine(label, angle=0, translate=(dx, dy), scale=1.0, shear=0)\n",
    "        augmented_pairs.append((translated_image.resize((512, 1024)), translated_label.resize((512, 1024))))\n",
    "\n",
    "    return augmented_pairs\n",
    "\n",
    "# Procesar todas las imágenes y etiquetas\n",
    "file_list = sorted(os.listdir(input_dir))\n",
    "\n",
    "for file_name in file_list:\n",
    "    if file_name.endswith(\"_label.bmp\"):  # Identificar etiquetas\n",
    "        label_path = os.path.join(input_dir, file_name)\n",
    "        image_path = label_path.replace(\"_label.bmp\", \".jpg\")  \n",
    "\n",
    "        if os.path.exists(image_path) and is_nok(label_path):  # Solo procesar NOK\n",
    "            # Cargar imagen y etiqueta\n",
    "            image = Image.open(image_path).convert(\"L\").resize((512, 1024))\n",
    "            label = Image.open(label_path).convert(\"L\").resize((512, 1024))\n",
    "\n",
    "            # Aplicar data augmentation\n",
    "            augmented_data = augment_image_and_label(image, label)\n",
    "\n",
    "            # Guardar resultados\n",
    "            base_name = os.path.splitext(file_name)[0].replace(\"_label\", \"\")\n",
    "            for idx, (aug_image, aug_label) in enumerate(augmented_data):\n",
    "                aug_image.save(os.path.join(output_images_dir, f\"{base_name}_aug_{idx}.jpg\"))\n",
    "                aug_label.save(os.path.join(output_labels_dir, f\"{base_name}_aug_{idx}_label.bmp\"))\n",
    "\n",
    "print(\"Data augmentation hecho.\")\n",
    "\n"
   ],
   "outputs": [
    {
     "name": "stdout",
     "output_type": "stream",
     "text": [
      "Data augmentation hecho.\n"
     ]
    }
   ],
   "execution_count": 2
  }
 ],
 "metadata": {
  "kernelspec": {
   "display_name": "Python 3",
   "language": "python",
   "name": "python3"
  },
  "language_info": {
   "codemirror_mode": {
    "name": "ipython",
    "version": 2
   },
   "file_extension": ".py",
   "mimetype": "text/x-python",
   "name": "python",
   "nbconvert_exporter": "python",
   "pygments_lexer": "ipython2",
   "version": "2.7.6"
  }
 },
 "nbformat": 4,
 "nbformat_minor": 5
}
